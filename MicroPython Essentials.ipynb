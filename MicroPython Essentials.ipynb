{
 "cells": [
  {
   "cell_type": "code",
   "execution_count": null,
   "id": "6c815e16-0375-4c65-83e6-ab92e2fcd4d1",
   "metadata": {},
   "outputs": [],
   "source": [
    "# External code is fetched with the \"import\" statement\n",
    "# \"sys\" is a built-in module\n",
    "import sys"
   ]
  },
  {
   "cell_type": "code",
   "execution_count": null,
   "id": "6477d361-039b-416f-99b8-ec30b63a4ad7",
   "metadata": {},
   "outputs": [],
   "source": [
    "# Python variables are references\n",
    "\n",
    "# Several datatypes available"
   ]
  },
  {
   "cell_type": "code",
   "execution_count": null,
   "id": "6b61c4b7-4f29-4fcb-b01e-d7572df3cf71",
   "metadata": {},
   "outputs": [],
   "source": [
    "# Numbers: Integers - as large as you like - can even overflow floats\n",
    "\n",
    "11 ** 1048"
   ]
  },
  {
   "cell_type": "code",
   "execution_count": null,
   "id": "be349c74-eda4-43a9-9a6c-9d8f97c1fd3c",
   "metadata": {},
   "outputs": [],
   "source": [
    "# Floats (beware: some chips have to rely on software)\n",
    "# Limited precision but a large range\n",
    "\n",
    "x = 10.0 ** -100\n",
    "y = 10.0 ** 100"
   ]
  },
  {
   "cell_type": "code",
   "execution_count": null,
   "id": "284709ef-d8e2-4d32-9d05-a7c9168f879a",
   "metadata": {},
   "outputs": [],
   "source": [
    "x, y"
   ]
  },
  {
   "cell_type": "code",
   "execution_count": null,
   "id": "9d2bd042-92dd-42b7-9a6f-b6831f05ef8b",
   "metadata": {},
   "outputs": [],
   "source": [
    "10.0 ** 100 + 1"
   ]
  },
  {
   "cell_type": "code",
   "execution_count": null,
   "id": "d4480701-3ac2-4214-a3aa-8dab436fb86a",
   "metadata": {},
   "outputs": [],
   "source": [
    "10 ** 100 + 1"
   ]
  },
  {
   "cell_type": "code",
   "execution_count": null,
   "id": "3811ee40-fe5b-4e40-b010-49a3ea8bdc1e",
   "metadata": {},
   "outputs": [],
   "source": [
    "# Strings can use single- or double-quotes\n",
    "\n",
    "s1 = \"Uses double-quotes\"\n",
    "s2 = 'Uses single quotes'\n",
    "s3 = \"\"\"If you triple a single- or double-quote\n",
    "then a newline doesn't terminate the string, and\n",
    "it goes all the way to the matching closing\n",
    "quote\"\"\""
   ]
  },
  {
   "cell_type": "code",
   "execution_count": null,
   "id": "8c302a9e-a352-41f7-b1d1-2de8677dd69f",
   "metadata": {},
   "outputs": [],
   "source": [
    "# Python is very good at handing strings\n",
    "s1 + \" / \" + s2"
   ]
  },
  {
   "cell_type": "code",
   "execution_count": null,
   "id": "3d1ed20c-f719-4b5b-80ec-d64e7a3967b8",
   "metadata": {},
   "outputs": [],
   "source": [
    "f'''f-strings allow formula interpolation between braces:\n",
    "\n",
    "{6*7} {s1}...{s2}...{s3}\n",
    "\n",
    "Simples!!'''"
   ]
  },
  {
   "cell_type": "code",
   "execution_count": null,
   "id": "eadffa36-dca2-413b-94f5-4e3e616ac05c",
   "metadata": {},
   "outputs": [],
   "source": [
    "# Everything in Python is an OBJECT\n",
    "# Objects have an id, unique to them.\n",
    "# The above types of object are IMMUTABLE\n",
    "# Changes to immutable values create new values\n",
    "id(s1), id(s2), id(s3)"
   ]
  },
  {
   "cell_type": "code",
   "execution_count": null,
   "id": "7f1bbee8-b883-42f5-ba64-99d3079f1166",
   "metadata": {},
   "outputs": [],
   "source": [
    "id(s1+\"something\")"
   ]
  },
  {
   "cell_type": "code",
   "execution_count": null,
   "id": "e5344246-57dd-44ba-9c43-a18fb34f8cc9",
   "metadata": {},
   "outputs": [],
   "source": [
    "# Other types are MUTABLE - they can be changed without changing id\n",
    "# Lists go in square brackets - elements are numbered from zero\n",
    "# Items in lists are, like variable, references to values."
   ]
  },
  {
   "cell_type": "code",
   "execution_count": null,
   "id": "b5f1b740-5538-4f1a-8c9f-9284eec908f6",
   "metadata": {},
   "outputs": [],
   "source": [
    "list1 = [\"string\", 1, 3.14159, [\"nested list\"]]\n",
    "list1, id(list1)"
   ]
  },
  {
   "cell_type": "code",
   "execution_count": null,
   "id": "218425b6-e17a-4577-8ac1-11aa4f96c617",
   "metadata": {},
   "outputs": [],
   "source": [
    "list1[3] = \"simple string\"\n",
    "list1, id(list1)"
   ]
  },
  {
   "cell_type": "code",
   "execution_count": null,
   "id": "c7bc9dfe-0dd9-4c3c-979d-83caababb53c",
   "metadata": {},
   "outputs": [],
   "source": [
    "# Define functions using the 'def' keyword.\n",
    "# - arguments can have default values\n",
    "# Print things using the 'print' function"
   ]
  },
  {
   "cell_type": "code",
   "execution_count": null,
   "id": "4f1b436b-e512-4f53-a238-9968f2d1f7a0",
   "metadata": {},
   "outputs": [],
   "source": [
    "def my_func(x, y=\"default\"):\n",
    "    print(x, \":\", y)"
   ]
  },
  {
   "cell_type": "code",
   "execution_count": null,
   "id": "cb9a40b0-de0a-4580-827b-75b5fe08815a",
   "metadata": {},
   "outputs": [],
   "source": [
    "my_func(42)"
   ]
  },
  {
   "cell_type": "code",
   "execution_count": null,
   "id": "3414e12b-9044-4c9f-abdb-60b4e65ef8f7",
   "metadata": {},
   "outputs": [],
   "source": [
    "my_func(84, \"not the default\")"
   ]
  },
  {
   "cell_type": "code",
   "execution_count": null,
   "id": "50648c91-75ff-4e28-9a87-874e737bf7e7",
   "metadata": {},
   "outputs": [],
   "source": [
    "# Arguments can be matched position, as above, or by name"
   ]
  },
  {
   "cell_type": "code",
   "execution_count": null,
   "id": "63fd96f4-1e33-4080-9d68-c2a74958d27b",
   "metadata": {},
   "outputs": [],
   "source": [
    "my_func(y=\"this is y\", x=\"this is x\")"
   ]
  },
  {
   "cell_type": "code",
   "execution_count": null,
   "id": "5b0d7b6d-f7b1-4729-beb8-2507230516b5",
   "metadata": {},
   "outputs": [],
   "source": [
    "my_func(x=\"any old value\")"
   ]
  },
  {
   "cell_type": "code",
   "execution_count": null,
   "id": "109c80a6-4d60-453c-8224-e951215dbdbc",
   "metadata": {},
   "outputs": [],
   "source": [
    "# Variables aren't typed: the types are associated with the data\n",
    "# Declaration isn't required"
   ]
  },
  {
   "cell_type": "code",
   "execution_count": null,
   "id": "79b40f29-c38b-4608-86c6-ca29e61f14d1",
   "metadata": {},
   "outputs": [],
   "source": [
    "s = \"this is a string\"\n",
    "s = 42\n",
    "s"
   ]
  },
  {
   "cell_type": "code",
   "execution_count": null,
   "id": "b7494bd0-47ed-4d4b-acb4-3c6565eeb4f7",
   "metadata": {},
   "outputs": [],
   "source": [
    "# The 'class' statement defines a class.\n",
    "# This determines the behaviour of new instances,\n",
    "# each of which has its own data.\n",
    "\n",
    "# Functions defined inside a class are known as \"methods\""
   ]
  },
  {
   "cell_type": "code",
   "execution_count": null,
   "id": "be88611c-c234-4fff-9de7-3e66f4e6433d",
   "metadata": {},
   "outputs": [],
   "source": [
    "class my_type:\n",
    "    def __init__(self, arg1, arg2):\n",
    "        \"__init__ is called at instance creation\"\n",
    "        self.arg1 = arg1\n",
    "        self.arg2 = arg2\n",
    "    def print_1(self):\n",
    "        print(\"Arg 1 is\", self.arg1)\n",
    "    def print_2(self):\n",
    "        print(\"Arg 2 is\", self.arg1)"
   ]
  },
  {
   "cell_type": "code",
   "execution_count": null,
   "id": "8894730e-930d-472d-9115-8ab8987fd5eb",
   "metadata": {},
   "outputs": [],
   "source": [
    "# Create instances by calling the class (with arguments!)\n",
    "mt1 = my_type(\"instance 1\", arg2=\"second arg\")"
   ]
  },
  {
   "cell_type": "code",
   "execution_count": null,
   "id": "1f676fe0-a0fa-40df-a07e-8c4a7d63cf8f",
   "metadata": {},
   "outputs": [],
   "source": [
    "mt1.print_1()"
   ]
  },
  {
   "cell_type": "code",
   "execution_count": null,
   "id": "89538a5e-52ad-4960-8f34-0d0bc217c467",
   "metadata": {},
   "outputs": [],
   "source": [
    "# Finally, let's take a look at the hardware we'll use tomorrow"
   ]
  }
 ],
 "metadata": {
  "kernelspec": {
   "display_name": "Python 3 (ipykernel)",
   "language": "python",
   "name": "python3"
  },
  "language_info": {
   "codemirror_mode": {
    "name": "ipython",
    "version": 3
   },
   "file_extension": ".py",
   "mimetype": "text/x-python",
   "name": "python",
   "nbconvert_exporter": "python",
   "pygments_lexer": "ipython3",
   "version": "3.10.12"
  }
 },
 "nbformat": 4,
 "nbformat_minor": 5
}
